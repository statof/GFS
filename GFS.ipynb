{
 "cells": [
  {
   "cell_type": "code",
   "execution_count": 9,
   "metadata": {
    "collapsed": false,
    "scrolled": true
   },
   "outputs": [],
   "source": [
    "def extractGribData(fileurl,latitude1, longitude1):\n",
    "    \"The function extract all the data for the given longitudes (-0.5->359.5) and latitudes(-90.5->90.5). Output is given as a dataframe\"\n",
    "    data = pd.DataFrame(columns=['datetime_of_origin', 'datetime_of_forecast', 'latitude', 'longitude', 'parameter_type', 'parameter_value', 'unit_value', 'unit_description']) #Generating data frame for input\n",
    "    grbs = pygrib.open(fileurl) #Open grib file as iterator\n",
    "    i=0 #Index counter\n",
    "    \n",
    "    #Loop through the messages and then pick the longitude and latitude\n",
    "    for msg in grbs:\n",
    "            data.at[i,'parameter_type']=msg.name #Parameter type\n",
    "            data.at[i, 'datetime_of_origin']=msg.analDate #Datetime for when forecast was generated\n",
    "            data.at[i, 'datetime_of_forecast']=msg.validDate #Datetime for when forecast was valid\n",
    "            data.at[i, 'unit_description']=msg.typeOfLevel #Unit description\n",
    "            data.at[i, 'unit_value']=msg.level #Unit value\n",
    "            data.at[i, 'parameter_value']=float(msg.data(lat1=latitude1, lat2=latitude1, lon1=longitude1, lon2=longitude1)[0][0][0]) #Parameter value        \n",
    "            data.at[i, 'latitude']=msg.data(lat1=latitude1, lat2=latitude1, lon1=longitude1, lon2=longitude1)[1][0][0] #Latitude   \n",
    "            data.at[i, 'longitude']=msg.data(lat1=latitude1, lat2=latitude1, lon1=longitude1, lon2=longitude1)[2][0][0] #Longitude   \n",
    "            i=i+1\n",
    "    return data"
   ]
  },
  {
   "cell_type": "code",
   "execution_count": 10,
   "metadata": {
    "collapsed": false
   },
   "outputs": [
    {
     "name": "stdout",
     "output_type": "stream",
     "text": [
      "Reading data from gfs_4_20161001_0000_000.grb2\n"
     ]
    },
    {
     "name": "stderr",
     "output_type": "stream",
     "text": [
      "/opt/conda/lib/python2.7/site-packages/numpy/ma/core.py:4144: UserWarning: Warning: converting a masked element to nan.\n",
      "  warnings.warn(\"Warning: converting a masked element to nan.\")\n"
     ]
    },
    {
     "name": "stdout",
     "output_type": "stream",
     "text": [
      "Reading data from gfs_4_20161001_0000_003.grb2\n",
      "Reading data from gfs_4_20161001_0000_006.grb2\n",
      "    datetime_of_origin datetime_of_forecast latitude longitude  \\\n",
      "0  2016-10-01 00:00:00  2016-10-01 00:00:00       20        25   \n",
      "1  2016-10-01 00:00:00  2016-10-01 00:00:00       20        25   \n",
      "2  2016-10-01 00:00:00  2016-10-01 00:00:00       20        25   \n",
      "3  2016-10-01 00:00:00  2016-10-01 00:00:00       20        25   \n",
      "4  2016-10-01 00:00:00  2016-10-01 00:00:00       20        25   \n",
      "\n",
      "        parameter_type parameter_value unit_value unit_description  \n",
      "0  U component of wind            -8.1          0          unknown  \n",
      "1  V component of wind              -9          0          unknown  \n",
      "2     Ventilation Rate            3000          0          unknown  \n",
      "3    Wind speed (gust)            12.7          0          surface  \n",
      "4  Geopotential Height         47664.3          1    isobaricInhPa  \n",
      "       datetime_of_origin datetime_of_forecast latitude longitude  \\\n",
      "1177  2016-10-01 00:00:00  2016-10-01 06:00:00       20        25   \n",
      "1178  2016-10-01 00:00:00  2016-10-01 06:00:00       20        25   \n",
      "1179  2016-10-01 00:00:00  2016-10-01 06:00:00       20        25   \n",
      "1180  2016-10-01 00:00:00  2016-10-01 06:00:00       20        25   \n",
      "1181  2016-10-01 00:00:00  2016-10-01 06:00:00       20        25   \n",
      "\n",
      "                  parameter_type parameter_value unit_value  \\\n",
      "1177         Geopotential Height             NaN    2147486   \n",
      "1178                    Pressure             NaN    2147486   \n",
      "1179        Vertical speed shear             NaN    2147486   \n",
      "1180     Pressure reduced to MSL          101374          0   \n",
      "1181  5-wave geopotential height         5862.87        500   \n",
      "\n",
      "        unit_description  \n",
      "1177  potentialVorticity  \n",
      "1178  potentialVorticity  \n",
      "1179  potentialVorticity  \n",
      "1180             meanSea  \n",
      "1181       isobaricInhPa  \n",
      "Transforming data frame to pickle\n",
      "Total time to process was: \n",
      "35.0029411316\n"
     ]
    }
   ],
   "source": [
    "#Purpose: This script is made to extract data from a grib2 file for only a specific latitude and longitude, and then insert it into a pickle. \n",
    "#Date: 13.10.2016 \n",
    "#Author: ST\n",
    "\n",
    "#Comment on grib files\n",
    "#Files have different length. Files that forecast ahead includes average for some values. For example 0-6 hour avg.\n",
    "#Files include have values which can be for example temperature, windspeed and humidity. This is at different levels.\n",
    "#Then we have different keys for each value. Inside here we have for example the grid with latitude and longitude.\n",
    "\n",
    "#Comment on function \n",
    "#The function only take longitude and latitude but could be generalized to take a range of longitude and latitudes.\n",
    "\n",
    "#Import relevant libraries\n",
    "import pygrib\n",
    "import numpy as np\n",
    "from datetime import datetime\n",
    "import pandas as pd\n",
    "import time\n",
    "\n",
    "start_time=time.time()\n",
    "\n",
    "#Generate a data frame to store values from files. Need to be on same form as output of the \"extractGribData\" function\n",
    "df = pd.DataFrame(columns=['datetime_of_origin', 'datetime_of_forecast', 'latitude', 'longitude', 'parameter_type', 'parameter_value', 'unit_value', 'unit_description']) \n",
    "\n",
    "#Defining path and file variables\n",
    "output_path=\"c/Users/stto/OneDrive - Powel AS/Prosjekter/PV Forecast, Chile/GFS/data.pickle\"\n",
    "input_path=\"c/Users/stto/OneDrive - Powel AS/Prosjekter/PV Forecast, Chile/GFS/\"\n",
    "filenames=[\"gfs_4_20161001_0000_000.grb2\", \"gfs_4_20161001_0000_003.grb2\", \"gfs_4_20161001_0000_006.grb2\"]\n",
    "\n",
    "#Loop over input files and append date to the data frame\n",
    "for filename in filenames:\n",
    "    fileurl=input_path+filename\n",
    "    print(\"Reading data from \" + filename)\n",
    "    df=df.append(extractGribData(filename, 20, 25), ignore_index=True) #Use fileurl if grib file is not in the same folder as the python script. Could be problematic with Docker?\n",
    "\n",
    "#Quality checking\n",
    "print(df.head(5))\n",
    "print(df.tail(5))\n",
    "\n",
    "#Pickle the data frame\n",
    "print(\"Transforming data frame to pickle\")\n",
    "df.to_pickle(\"data.pickle\")\n",
    "\n",
    "print(\"Total time to process was: \")\n",
    "print(time.time()-start_time)"
   ]
  },
  {
   "cell_type": "code",
   "execution_count": 13,
   "metadata": {
    "collapsed": false
   },
   "outputs": [
    {
     "data": {
      "text/plain": [
       "datetime_of_origin      object\n",
       "datetime_of_forecast    object\n",
       "latitude                object\n",
       "longitude               object\n",
       "parameter_type          object\n",
       "parameter_value         object\n",
       "unit_value              object\n",
       "unit_description        object\n",
       "dtype: object"
      ]
     },
     "execution_count": 13,
     "metadata": {},
     "output_type": "execute_result"
    }
   ],
   "source": [
    "df.dtypes"
   ]
  }
 ],
 "metadata": {
  "anaconda-cloud": {},
  "kernelspec": {
   "display_name": "Python [default]",
   "language": "python",
   "name": "python2"
  },
  "language_info": {
   "codemirror_mode": {
    "name": "ipython",
    "version": 2
   },
   "file_extension": ".py",
   "mimetype": "text/x-python",
   "name": "python",
   "nbconvert_exporter": "python",
   "pygments_lexer": "ipython2",
   "version": "2.7.12"
  }
 },
 "nbformat": 4,
 "nbformat_minor": 1
}
